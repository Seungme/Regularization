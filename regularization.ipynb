{
 "cells": [
  {
   "cell_type": "code",
   "execution_count": 2,
   "metadata": {},
   "outputs": [
    {
     "name": "stdout",
     "output_type": "stream",
     "text": [
      "(100, 1)\n"
     ]
    }
   ],
   "source": [
    "import numpy as np\n",
    "import pandas as pd\n",
    "import matplotlib.pyplot as plt\n",
    "\n",
    "#number of columns\n",
    "p = 50\n",
    "#number of rows\n",
    "n = 100\n",
    "\n",
    "np.random.seed(12)\n",
    "x1 = np.random.normal(size=p)\n",
    "ones = np.ones(p)\n",
    "X = np.concatenate([ones, x1])\n",
    "\n",
    "#add noise\n",
    "epsilon = np.random.normal(size=p)\n",
    "Y = epsilon\n",
    "\n",
    "#generate dataset\n",
    "for i in range(n - 2):\n",
    "    xx = np.random.normal(size=p)\n",
    "    #all the coefficients are equal to 1\n",
    "    Y += xx\n",
    "    X = np.concatenate([X, xx])\n",
    "\n",
    "X = X.reshape(-1, n)\n",
    "Y = Y.reshape(-1, 1)\n",
    "\n",
    "weights = np.random.randn(n, 1)\n",
    "print(weights.shape)"
   ]
  },
  {
   "cell_type": "markdown",
   "metadata": {},
   "source": [
    "The mean squared error is used as the cost function.\n",
    "$$\n",
    "cost(w) = \\frac{1}{2 * n} \\sum_i (y_i - \\hat{y_i})^2\n",
    "$$\n",
    "\n",
    "with the fist order derivative:\n",
    "$$\n",
    "dw = \\frac{-2}{n} \\sum_i x_i(\\hat{y_i} - y_i)\n",
    "$$"
   ]
  },
  {
   "cell_type": "code",
   "execution_count": 3,
   "metadata": {},
   "outputs": [
    {
     "data": {
      "text/plain": [
       "79.54665432963898"
      ]
     },
     "execution_count": 3,
     "metadata": {},
     "output_type": "execute_result"
    }
   ],
   "source": [
    "def cost(X, weights, Y):\n",
    "    residual = Y - (X @ weights)\n",
    "    return np.sum(residual ** 2) / (2 * len(X))\n",
    "\n",
    "#the cost without optimization\n",
    "cost(X, weights, Y)"
   ]
  },
  {
   "cell_type": "markdown",
   "metadata": {},
   "source": [
    "In order to minimize the cost, we used the gradient descent algorithm. The new weight is given by:\n",
    "$$\n",
    "w_{new} = w - \\eta\\frac{\\partial L1}{\\partial w}\n",
    "$$"
   ]
  },
  {
   "cell_type": "code",
   "execution_count": 4,
   "metadata": {},
   "outputs": [],
   "source": [
    "def gradient(X, weights, Y):\n",
    "    residual = Y - (X @ weights)\n",
    "    return -2/len(X) * X.T @ residual"
   ]
  },
  {
   "cell_type": "code",
   "execution_count": 5,
   "metadata": {},
   "outputs": [
    {
     "name": "stdout",
     "output_type": "stream",
     "text": [
      "max 3.6253266637875217\n",
      "std 1.2606185572317896\n",
      "mean 0.09753334508338478\n"
     ]
    }
   ],
   "source": [
    "#gradient descent\n",
    "def gradientDescent(X, weights, Y, iterations=1000, alpha=0.01):\n",
    "    \"\"\"   \n",
    "        iterations: the number of iterations\n",
    "        alpha: the learning rate\n",
    "    \"\"\"\n",
    "    costs = np.zeros(iterations)\n",
    "    for i in range(iterations):\n",
    "        g = gradient(X, weights, Y)\n",
    "        weights = weights - alpha * g\n",
    "        costs[i] = cost(X, weights, Y)\n",
    "    return weights, costs\n",
    "\n",
    "weights_gd, costs_gd = gradientDescent(X, weights.copy(), Y)\n",
    "\n",
    "print(\"max\", np.max(weights_gd))\n",
    "print(\"std\", np.std(weights_gd))\n",
    "print(\"mean\", np.mean(weights_gd))"
   ]
  },
  {
   "cell_type": "markdown",
   "metadata": {},
   "source": [
    "The cost of a ridge regression is given by:\n",
    "$$\n",
    "cost(w) = \\frac{1}{2 * n} \\sum_i (y_i - \\hat{y_i})^2 + \\lambda \\sum_j (w_j)^2\n",
    "$$\n",
    "\n",
    "The derivative of the ridge function gives:\n",
    "$$\n",
    "\\frac{-2}{n} \\sum_i x_i(\\hat{y_i} - y_i) + 2\\lambda w_i\n",
    "$$\n",
    "\n",
    "The weight is updated by substracting learning rate times the gradient:\n",
    "$$\n",
    "w_{new} = w - \\alpha * gradient\n",
    "$$"
   ]
  },
  {
   "cell_type": "code",
   "execution_count": 6,
   "metadata": {},
   "outputs": [
    {
     "name": "stdout",
     "output_type": "stream",
     "text": [
      "max 2.742938303994115\n",
      "std 0.931350098870264\n",
      "mean 0.11960151385261863\n"
     ]
    }
   ],
   "source": [
    "#ridge\n",
    "def l2(X, weights, Y, iterations=1000, alpha=0.01, l=0.1):\n",
    "    \"\"\"   \n",
    "        iterations: the number of iterations\n",
    "        alpha: the learning rate\n",
    "        l: the regularization parameter (lambda) \n",
    "    \"\"\"\n",
    "    costs = np.zeros(iterations)\n",
    "    for i in range(iterations):\n",
    "        g = gradient(X, weights, Y) + 2 * weights * l\n",
    "        weights = weights - alpha * g\n",
    "        squared = (Y - (X @ weights))**2\n",
    "        costs[i] = cost(X, weights, Y) + l * np.sum(weights**2)\n",
    "    return weights, costs\n",
    "\n",
    "weights_l2, costs_l2 = l2(X, weights.copy(), Y)\n",
    "\n",
    "print(\"max\", np.max(weights_l2))\n",
    "print(\"std\", np.std(weights_l2))\n",
    "print(\"mean\", np.mean(weights_l2))"
   ]
  },
  {
   "cell_type": "markdown",
   "metadata": {},
   "source": [
    "The cost of a lasso regression is given by:\n",
    "$$\n",
    "cost(w) = \\frac{1}{2 * n} \\sum_i (y_i - \\hat{y_i})^2 + \\lambda \\sum_j |w_j|\n",
    "$$\n",
    "\n",
    "The derivative of the ridge function gives:\n",
    "$$\n",
    "\\begin{split} \\begin{cases} \\frac{-2}{n} \\sum_i x_i(\\hat{y_i} - y_i) +\\lambda & w > 0\\\\ \\frac{-2}{n} \\sum_i x_i(\\hat{y_i} - y_i) -\\lambda & w < 0\\end{cases}\\end{split}\n",
    "$$\n",
    "\n",
    "The weight is updated by substracting learning rate times the gradient:\n",
    "$$\n",
    "w_{new} = w - \\alpha * gradient\n",
    "$$"
   ]
  },
  {
   "cell_type": "code",
   "execution_count": 7,
   "metadata": {},
   "outputs": [
    {
     "name": "stdout",
     "output_type": "stream",
     "text": [
      "max 3.363965661853758\n",
      "std 1.1004797401385018\n",
      "mean 0.12865142780041874\n"
     ]
    }
   ],
   "source": [
    "#lasso\n",
    "def l1(X, weights, Y, iterations=1000, alpha=0.01, l=0.1):\n",
    "    \"\"\"   \n",
    "        iterations: the number of iterations\n",
    "        alpha: the learning rate\n",
    "        l: the regularization parameter (lambda) \n",
    "    \"\"\"\n",
    "    costs = np.zeros(iterations)\n",
    "    for i in range(iterations):\n",
    "        g = gradient(X, weights, Y)\n",
    "        g_minus = weights - alpha * (g - l)\n",
    "        g_plus = weights - alpha * (g + l)\n",
    "        for j in range(weights.shape[0]):\n",
    "            weights[j][0] = g_plus[j][0] if weights[j][0] > 0 else g_minus[j][0]\n",
    "        costs[i] = cost(X, weights, Y) + l * np.sum(np.abs(weights))\n",
    "    return weights, costs\n",
    "\n",
    "weights_l1, costs_l1 = l1(X, weights.copy(), Y)\n",
    "\n",
    "print(\"max\", np.max(weights_l1))\n",
    "print(\"std\", np.std(weights_l1))\n",
    "print(\"mean\", np.mean(weights_l1))"
   ]
  },
  {
   "cell_type": "code",
   "execution_count": 8,
   "metadata": {},
   "outputs": [
    {
     "data": {
      "image/png": "[encoded data removed]",
      "text/plain": [
       "<Figure size 432x288 with 1 Axes>"
      ]
     },
     "metadata": {
      "needs_background": "light"
     },
     "output_type": "display_data"
    }
   ],
   "source": [
    "#0.001 -> 0.01 -> 0.1 -> 1 -> 10\n",
    "learning_rates = [0.001, 0.01, 0.1, 1, 10]\n",
    "l_l1 = []\n",
    "l_l2= []\n",
    "\n",
    "for i in learning_rates:\n",
    "    weights_l_l1, costs_l1 = l1(X, weights.copy(), Y, l=i)\n",
    "    weights_l_l2, costs_l2 = l2(X, weights.copy(), Y, l=i)\n",
    "    l_l1.append(np.ravel(weights_l_l1))\n",
    "    l_l2.append(np.ravel(weights_l_l2))\n",
    "\n",
    "plt.figure()\n",
    "plt.plot(learning_rates, [np.std(x) for x in l_l1], 'r', marker='o', label=\"l1\")\n",
    "plt.plot(learning_rates, [np.std(x) for x in l_l2], 'b',marker='o', label=\"l2\")\n",
    "\n",
    "plt.legend()\n",
    "plt.title('Comparing standard deviation')\n",
    "plt.xlabel('learning rate')\n",
    "plt.ylabel('standard deviation')\n",
    "\n",
    "plt.show()"
   ]
  }
 ],
 "metadata": {
  "kernelspec": {
   "display_name": "Python 3",
   "language": "python",
   "name": "python3"
  },
  "language_info": {
   "codemirror_mode": {
    "name": "ipython",
    "version": 3
   },
   "file_extension": ".py",
   "mimetype": "text/x-python",
   "name": "python",
   "nbconvert_exporter": "python",
   "pygments_lexer": "ipython3",
   "version": "3.7.4"
  }
 },
 "nbformat": 4,
 "nbformat_minor": 2
}
